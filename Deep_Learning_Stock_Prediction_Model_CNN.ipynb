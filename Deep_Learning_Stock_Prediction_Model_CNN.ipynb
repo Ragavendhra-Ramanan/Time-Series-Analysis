{
  "nbformat": 4,
  "nbformat_minor": 0,
  "metadata": {
    "colab": {
      "name": "Deep Learning Stock Prediction Model - CNN",
      "provenance": [],
      "collapsed_sections": [
        "g0yp3o8DSJ9I"
      ],
      "toc_visible": true,
      "authorship_tag": "ABX9TyOWwIn7XCaWXiPG85IJXPbr",
      "include_colab_link": true
    },
    "kernelspec": {
      "name": "python3",
      "display_name": "Python 3"
    }
  },
  "cells": [
    {
      "cell_type": "markdown",
      "metadata": {
        "id": "view-in-github",
        "colab_type": "text"
      },
      "source": [
        "<a href=\"https://colab.research.google.com/github/Ragavendhra-Ramanan/Time-Series-Analysis/blob/master/Deep_Learning_Stock_Prediction_Model_CNN.ipynb\" target=\"_parent\"><img src=\"https://colab.research.google.com/assets/colab-badge.svg\" alt=\"Open In Colab\"/></a>"
      ]
    },
    {
      "cell_type": "markdown",
      "metadata": {
        "id": "fcQrBMtaBZBb",
        "colab_type": "text"
      },
      "source": [
        "#**Name -M.R.Ragavendhra Ramanan**\n",
        "\n",
        "\n",
        "\n"
      ]
    },
    {
      "cell_type": "markdown",
      "metadata": {
        "id": "SaTtP-XpdXGm",
        "colab_type": "text"
      },
      "source": [
        "#**Task Overview**"
      ]
    },
    {
      "cell_type": "markdown",
      "metadata": {
        "id": "V0n_2eaEdejC",
        "colab_type": "text"
      },
      "source": [
        "* In this task we are going to predict the **Opening** price of stocks for the which the **market cap** is over **2 Billion** using deep learning models.\n",
        "* For this task ,the Convolutional Neural Networks (CNN) are used.\n",
        "* CNN is better than LSTM and RNN because the training time is short.\n",
        "* Also,CNN is used since it performs best in finding out the spatial correlations between the data.\n",
        "* The Stock used for training is **Microsoft** since its market cap is over **1.58 trillion**\n",
        "* After training we test our model on **NYSE** and on **Apple** stocks.\n",
        "*The Evaluation metric is **Mean Absolute Percentage Error** (MAPE)\n"
      ]
    },
    {
      "cell_type": "markdown",
      "metadata": {
        "id": "ZDwjCtkt7SPe",
        "colab_type": "text"
      },
      "source": [
        "#**Methodology to create a model**"
      ]
    },
    {
      "cell_type": "markdown",
      "metadata": {
        "id": "pzzhH93Q7R37",
        "colab_type": "text"
      },
      "source": [
        "* First the **Microsoft** Dataset is imported from the **csv** file.\n",
        "* Then the Dataset is splitted into training and testing datasets.\n",
        "* The Training Dataset is then transformed into scaled values using **Robust Scaler**.\n",
        "* The **Robust Scaler** is used instead of **MinMaxScaler** since it is more robust to outliers.\n",
        "* It scales down the value based on Inter-Quartile Range.\n",
        "* The Training dataset is then windowed over the 7 days i.e)From current day to 7th day from the current day.\n",
        "* Later the Dataset is fed into the CNN model.\n",
        "* It is then tested for prediction on Test Dataset.\n",
        "* In order to check our model performance over out-of sample datas ,our model is tested on **NYSE** and **Apple** dataset. "
      ]
    },
    {
      "cell_type": "markdown",
      "metadata": {
        "id": "0HKeCNhVwMUi",
        "colab_type": "text"
      },
      "source": [
        "#**Training on Microsoft**"
      ]
    },
    {
      "cell_type": "markdown",
      "metadata": {
        "id": "gCx_k08lut87",
        "colab_type": "text"
      },
      "source": [
        "* Train the CNN model on Microsoft data.\n",
        "* The dataset contains the daily prices of the stocks."
      ]
    },
    {
      "cell_type": "markdown",
      "metadata": {
        "id": "CccjpvcjoQN1",
        "colab_type": "text"
      },
      "source": [
        "**Import relevant libraries**"
      ]
    },
    {
      "cell_type": "code",
      "metadata": {
        "id": "P55kcsS_63kH",
        "colab_type": "code",
        "colab": {}
      },
      "source": [
        "import  numpy as np#Used for fast mathematical function processing\n",
        "import pandas as pd#Used for Datascience processes to make indexing easy\n",
        "import matplotlib.pyplot as plt#Machine Learning Library to create plots and data visualizations\n",
        "import tensorflow as tf#It is an end-to end Machine learning library used to develop,train and deploy models. \n",
        "from tensorflow import keras#It is a neural network library which is more user friendly\n",
        "from sklearn.preprocessing import RobustScaler#used to scale the values based on Inter-Quartile range(25%to75%)"
      ],
      "execution_count": 1,
      "outputs": []
    },
    {
      "cell_type": "markdown",
      "metadata": {
        "id": "lVGybjuGtLF9",
        "colab_type": "text"
      },
      "source": [
        "**Load Dataset**"
      ]
    },
    {
      "cell_type": "code",
      "metadata": {
        "id": "ms28_Bn-6-8n",
        "colab_type": "code",
        "colab": {}
      },
      "source": [
        "#The dataset is given in csv format,This line is used to import the csv file containing Microsoft stock values\n",
        "#Here 'data' is the Dataframe\n",
        "data=pd.read_csv('mic.csv',index_col='Date',parse_dates=['Date'])"
      ],
      "execution_count": 3,
      "outputs": []
    },
    {
      "cell_type": "code",
      "metadata": {
        "id": "_jcPvmTX7Kz6",
        "colab_type": "code",
        "colab": {
          "base_uri": "https://localhost:8080/",
          "height": 235
        },
        "outputId": "9c06c2ce-dd32-4171-85e9-4f600482191b"
      },
      "source": [
        "#print first  5 rows\n",
        "data.head()"
      ],
      "execution_count": 4,
      "outputs": [
        {
          "output_type": "execute_result",
          "data": {
            "text/html": [
              "<div>\n",
              "<style scoped>\n",
              "    .dataframe tbody tr th:only-of-type {\n",
              "        vertical-align: middle;\n",
              "    }\n",
              "\n",
              "    .dataframe tbody tr th {\n",
              "        vertical-align: top;\n",
              "    }\n",
              "\n",
              "    .dataframe thead th {\n",
              "        text-align: right;\n",
              "    }\n",
              "</style>\n",
              "<table border=\"1\" class=\"dataframe\">\n",
              "  <thead>\n",
              "    <tr style=\"text-align: right;\">\n",
              "      <th></th>\n",
              "      <th>Open</th>\n",
              "      <th>High</th>\n",
              "      <th>Low</th>\n",
              "      <th>Close</th>\n",
              "      <th>Adj Close</th>\n",
              "      <th>Volume</th>\n",
              "    </tr>\n",
              "    <tr>\n",
              "      <th>Date</th>\n",
              "      <th></th>\n",
              "      <th></th>\n",
              "      <th></th>\n",
              "      <th></th>\n",
              "      <th></th>\n",
              "      <th></th>\n",
              "    </tr>\n",
              "  </thead>\n",
              "  <tbody>\n",
              "    <tr>\n",
              "      <th>2010-08-12</th>\n",
              "      <td>24.420000</td>\n",
              "      <td>24.680000</td>\n",
              "      <td>24.360001</td>\n",
              "      <td>24.490000</td>\n",
              "      <td>19.346718</td>\n",
              "      <td>70240500</td>\n",
              "    </tr>\n",
              "    <tr>\n",
              "      <th>2010-08-13</th>\n",
              "      <td>24.350000</td>\n",
              "      <td>24.670000</td>\n",
              "      <td>24.240000</td>\n",
              "      <td>24.400000</td>\n",
              "      <td>19.275618</td>\n",
              "      <td>45263500</td>\n",
              "    </tr>\n",
              "    <tr>\n",
              "      <th>2010-08-16</th>\n",
              "      <td>24.360001</td>\n",
              "      <td>24.610001</td>\n",
              "      <td>24.299999</td>\n",
              "      <td>24.500000</td>\n",
              "      <td>19.354610</td>\n",
              "      <td>40909700</td>\n",
              "    </tr>\n",
              "    <tr>\n",
              "      <th>2010-08-17</th>\n",
              "      <td>24.709999</td>\n",
              "      <td>24.959999</td>\n",
              "      <td>24.600000</td>\n",
              "      <td>24.709999</td>\n",
              "      <td>19.624645</td>\n",
              "      <td>52912600</td>\n",
              "    </tr>\n",
              "    <tr>\n",
              "      <th>2010-08-18</th>\n",
              "      <td>24.680000</td>\n",
              "      <td>24.950001</td>\n",
              "      <td>24.410000</td>\n",
              "      <td>24.820000</td>\n",
              "      <td>19.712004</td>\n",
              "      <td>46818900</td>\n",
              "    </tr>\n",
              "  </tbody>\n",
              "</table>\n",
              "</div>"
            ],
            "text/plain": [
              "                 Open       High        Low      Close  Adj Close    Volume\n",
              "Date                                                                       \n",
              "2010-08-12  24.420000  24.680000  24.360001  24.490000  19.346718  70240500\n",
              "2010-08-13  24.350000  24.670000  24.240000  24.400000  19.275618  45263500\n",
              "2010-08-16  24.360001  24.610001  24.299999  24.500000  19.354610  40909700\n",
              "2010-08-17  24.709999  24.959999  24.600000  24.709999  19.624645  52912600\n",
              "2010-08-18  24.680000  24.950001  24.410000  24.820000  19.712004  46818900"
            ]
          },
          "metadata": {
            "tags": []
          },
          "execution_count": 4
        }
      ]
    },
    {
      "cell_type": "markdown",
      "metadata": {
        "id": "k9nVpzzQ4VWG",
        "colab_type": "text"
      },
      "source": [
        "**Explanation of Dataset**"
      ]
    },
    {
      "cell_type": "markdown",
      "metadata": {
        "id": "h3FUwSvD6xJL",
        "colab_type": "text"
      },
      "source": [
        "* **Date** -Index of the dataset containing the dates.\n",
        "* **Open** -It contains the daily opening price of stock\n",
        "* **High**-It contains the Highest price reached on the particular day.\n",
        "* **Low**-It contains the Lowest Price reached on the particular day.\n",
        "* **Close**-It contains the daily closing price of stock.\n",
        "* **Adj Close**-The adjusted closing price shows the stock's value after posting a dividend\n",
        "* **Volume**-Volume is the number of shares of a security traded during a given period of time."
      ]
    },
    {
      "cell_type": "code",
      "metadata": {
        "id": "YZg3OzLc7ONW",
        "colab_type": "code",
        "colab": {
          "base_uri": "https://localhost:8080/",
          "height": 235
        },
        "outputId": "3233e052-fe62-4d8f-9893-9362a2b62644"
      },
      "source": [
        "#print last 5 rows\n",
        "data.tail()"
      ],
      "execution_count": 5,
      "outputs": [
        {
          "output_type": "execute_result",
          "data": {
            "text/html": [
              "<div>\n",
              "<style scoped>\n",
              "    .dataframe tbody tr th:only-of-type {\n",
              "        vertical-align: middle;\n",
              "    }\n",
              "\n",
              "    .dataframe tbody tr th {\n",
              "        vertical-align: top;\n",
              "    }\n",
              "\n",
              "    .dataframe thead th {\n",
              "        text-align: right;\n",
              "    }\n",
              "</style>\n",
              "<table border=\"1\" class=\"dataframe\">\n",
              "  <thead>\n",
              "    <tr style=\"text-align: right;\">\n",
              "      <th></th>\n",
              "      <th>Open</th>\n",
              "      <th>High</th>\n",
              "      <th>Low</th>\n",
              "      <th>Close</th>\n",
              "      <th>Adj Close</th>\n",
              "      <th>Volume</th>\n",
              "    </tr>\n",
              "    <tr>\n",
              "      <th>Date</th>\n",
              "      <th></th>\n",
              "      <th></th>\n",
              "      <th></th>\n",
              "      <th></th>\n",
              "      <th></th>\n",
              "      <th></th>\n",
              "    </tr>\n",
              "  </thead>\n",
              "  <tbody>\n",
              "    <tr>\n",
              "      <th>2020-08-05</th>\n",
              "      <td>214.899994</td>\n",
              "      <td>215.000000</td>\n",
              "      <td>211.570007</td>\n",
              "      <td>212.940002</td>\n",
              "      <td>212.940002</td>\n",
              "      <td>28858600</td>\n",
              "    </tr>\n",
              "    <tr>\n",
              "      <th>2020-08-06</th>\n",
              "      <td>212.339996</td>\n",
              "      <td>216.369995</td>\n",
              "      <td>211.550003</td>\n",
              "      <td>216.350006</td>\n",
              "      <td>216.350006</td>\n",
              "      <td>32656800</td>\n",
              "    </tr>\n",
              "    <tr>\n",
              "      <th>2020-08-07</th>\n",
              "      <td>214.850006</td>\n",
              "      <td>215.699997</td>\n",
              "      <td>210.929993</td>\n",
              "      <td>212.479996</td>\n",
              "      <td>212.479996</td>\n",
              "      <td>27789600</td>\n",
              "    </tr>\n",
              "    <tr>\n",
              "      <th>2020-08-10</th>\n",
              "      <td>211.669998</td>\n",
              "      <td>211.880005</td>\n",
              "      <td>206.350006</td>\n",
              "      <td>208.250000</td>\n",
              "      <td>208.250000</td>\n",
              "      <td>36716500</td>\n",
              "    </tr>\n",
              "    <tr>\n",
              "      <th>2020-08-11</th>\n",
              "      <td>207.160004</td>\n",
              "      <td>207.649994</td>\n",
              "      <td>203.139999</td>\n",
              "      <td>203.380005</td>\n",
              "      <td>203.380005</td>\n",
              "      <td>36367300</td>\n",
              "    </tr>\n",
              "  </tbody>\n",
              "</table>\n",
              "</div>"
            ],
            "text/plain": [
              "                  Open        High  ...   Adj Close    Volume\n",
              "Date                                ...                      \n",
              "2020-08-05  214.899994  215.000000  ...  212.940002  28858600\n",
              "2020-08-06  212.339996  216.369995  ...  216.350006  32656800\n",
              "2020-08-07  214.850006  215.699997  ...  212.479996  27789600\n",
              "2020-08-10  211.669998  211.880005  ...  208.250000  36716500\n",
              "2020-08-11  207.160004  207.649994  ...  203.380005  36367300\n",
              "\n",
              "[5 rows x 6 columns]"
            ]
          },
          "metadata": {
            "tags": []
          },
          "execution_count": 5
        }
      ]
    },
    {
      "cell_type": "code",
      "metadata": {
        "id": "gM7h-Y_l9KkT",
        "colab_type": "code",
        "colab": {}
      },
      "source": [
        "#creating training and testing time\n",
        "train_time=int(len(data)*0.7)#70% of the length of original dataset is taken as training time\n",
        "test_time=len(data)-train_time#Remaining 30% of the length of original dataset is taken as testing time"
      ],
      "execution_count": 6,
      "outputs": []
    },
    {
      "cell_type": "code",
      "metadata": {
        "id": "4n2LWN48-Qsx",
        "colab_type": "code",
        "colab": {}
      },
      "source": [
        "#spliting of original dataset into training dataset and testing dataset\n",
        "x_train=data[:train_time]#The original dataset starting from 0 to training time is taken as training dataset\n",
        "x_test=data[train_time:]# The original dataset starting after the training time is taken as testing dataset"
      ],
      "execution_count": 7,
      "outputs": []
    },
    {
      "cell_type": "code",
      "metadata": {
        "id": "Iewwu76Z-XCE",
        "colab_type": "code",
        "colab": {
          "base_uri": "https://localhost:8080/",
          "height": 51
        },
        "outputId": "d0e8ba5b-7f99-4656-868c-78bc8ac78bb7"
      },
      "source": [
        "#Get the shape and type of train_data\n",
        "print(\"Shape of train data - {}\".format(x_train.shape))#print the shape of training data\n",
        "print(\"Type of train data - {}\".format(type(x_train)))#print the shape of testing data.\n"
      ],
      "execution_count": 8,
      "outputs": [
        {
          "output_type": "stream",
          "text": [
            "Shape of train data - (1761, 6)\n",
            "Type of train data - <class 'pandas.core.frame.DataFrame'>\n"
          ],
          "name": "stdout"
        }
      ]
    },
    {
      "cell_type": "code",
      "metadata": {
        "id": "rEwnc7HJ-rAi",
        "colab_type": "code",
        "colab": {}
      },
      "source": [
        "#convert the scale on inter-quartile range\n",
        "scaler=RobustScaler()#create object for class Robust Scaler.\n",
        "#It is used to scale the values and is robust to outliers as it eliminates outliers by taking 25% to 75% of data\n",
        "x_scaled=scaler.fit_transform(x_train)#It is used to transform the training dataset to scaled values."
      ],
      "execution_count": 9,
      "outputs": []
    },
    {
      "cell_type": "code",
      "metadata": {
        "id": "CppKNjGu-wlp",
        "colab_type": "code",
        "colab": {}
      },
      "source": [
        "x=[]#empty list\n",
        "y=[]#empty list\n",
        "#here the features are first 7 days and output to be predicted is 8th day\n",
        "for i in range(7,x_scaled.shape[0]):#looping on the dataset for 7 days\n",
        "  x.append(x_scaled[i-7:i])#appending first 7 days windowed list to x as features. \n",
        "  y.append(x_scaled[i,0])#appending only the opening price of first 7 days windowed list to y as target labels."
      ],
      "execution_count": 10,
      "outputs": []
    },
    {
      "cell_type": "code",
      "metadata": {
        "id": "0oW_Fxyg-60A",
        "colab_type": "code",
        "colab": {}
      },
      "source": [
        "#convert into numpy array\n",
        "x_window_set,y_window_set=np.array(x),np.array(y)#convert the list x and y to numpy arrays"
      ],
      "execution_count": 11,
      "outputs": []
    },
    {
      "cell_type": "markdown",
      "metadata": {
        "id": "tzabr4-PAGIG",
        "colab_type": "text"
      },
      "source": [
        "#**Define the model** "
      ]
    },
    {
      "cell_type": "markdown",
      "metadata": {
        "id": "UJtOTy63AQC3",
        "colab_type": "text"
      },
      "source": [
        "* **CNN** is used.\n",
        "* A typical CNN consist of convolution layer, pooling layer,       activation layer and output layer.\n",
        "* Here **Conv1D** is used since it enables movement of price is only one direction ie.)**Price**.\n",
        "* Padding used is **Same** so that the kernel moves over entire inputs given.\n",
        "* Activation used is **Relu** since it introduces non-linearity and also it provides regularizing effect since during backpropogation the weights less than zero are turned to Zero thus avoiding overfitting.\n",
        "* **Average pooling** is used since Maxpooling tend to miss lot of information  between the data.\n"
      ]
    },
    {
      "cell_type": "code",
      "metadata": {
        "id": "2mIbBtqo-8ly",
        "colab_type": "code",
        "colab": {}
      },
      "source": [
        "model = tf.keras.models.Sequential([\n",
        "  tf.keras.layers.Conv1D(filters=6, kernel_size=30,\n",
        "                      strides=1, padding=\"same\",\n",
        "                      activation=\"relu\",\n",
        "                      input_shape=[x_window_set.shape[1], 6]),#First convolutional layer\n",
        "  tf.keras.layers.Activation('relu'),#First activation layer\n",
        "  tf.keras.layers.AveragePooling1D(pool_size=2, strides=None, padding=\"valid\"),#First pooling layer\n",
        "\n",
        "  tf.keras.layers.Conv1D(filters=4, kernel_size=15,\n",
        "                      strides=1, padding=\"same\",\n",
        "                      activation=\"relu\"),#second convolutional layer\n",
        "  tf.keras.layers.Activation('relu'),#second activation layer\n",
        "  tf.keras.layers.AveragePooling1D(pool_size=2, strides=None, padding=\"valid\"),#second pooling layer\n",
        "\n",
        "  tf.keras.layers.Conv1D(filters=2, kernel_size=7,\n",
        "                      strides=1, padding=\"same\",\n",
        "                      activation=\"relu\"),#third convolutional layer\n",
        "  tf.keras.layers.Activation('relu'),#third activation layer\n",
        "  tf.keras.layers.AveragePooling1D(pool_size=1, strides=None, padding=\"valid\"),#third pooling layer\n",
        "\n",
        "  tf.keras.layers.Flatten(),#First flatten layer.It is used to flatten the matrix of data.\n",
        "  tf.keras.layers.Dense(32),#First dense layer.\n",
        "  tf.keras.layers.Dense(1)#Output layer\n",
        "\n",
        "  \n",
        "])\n"
      ],
      "execution_count": 12,
      "outputs": []
    },
    {
      "cell_type": "code",
      "metadata": {
        "id": "1z5H4p1s__Ye",
        "colab_type": "code",
        "colab": {
          "base_uri": "https://localhost:8080/",
          "height": 561
        },
        "outputId": "c1d45b2f-bd6e-46a0-c57d-1c9664a7d0cd"
      },
      "source": [
        "model.summary()#To show the layers, output shape and parameters used."
      ],
      "execution_count": 13,
      "outputs": [
        {
          "output_type": "stream",
          "text": [
            "Model: \"sequential\"\n",
            "_________________________________________________________________\n",
            "Layer (type)                 Output Shape              Param #   \n",
            "=================================================================\n",
            "conv1d (Conv1D)              (None, 7, 6)              1086      \n",
            "_________________________________________________________________\n",
            "activation (Activation)      (None, 7, 6)              0         \n",
            "_________________________________________________________________\n",
            "average_pooling1d (AveragePo (None, 3, 6)              0         \n",
            "_________________________________________________________________\n",
            "conv1d_1 (Conv1D)            (None, 3, 4)              364       \n",
            "_________________________________________________________________\n",
            "activation_1 (Activation)    (None, 3, 4)              0         \n",
            "_________________________________________________________________\n",
            "average_pooling1d_1 (Average (None, 1, 4)              0         \n",
            "_________________________________________________________________\n",
            "conv1d_2 (Conv1D)            (None, 1, 2)              58        \n",
            "_________________________________________________________________\n",
            "activation_2 (Activation)    (None, 1, 2)              0         \n",
            "_________________________________________________________________\n",
            "average_pooling1d_2 (Average (None, 1, 2)              0         \n",
            "_________________________________________________________________\n",
            "flatten (Flatten)            (None, 2)                 0         \n",
            "_________________________________________________________________\n",
            "dense (Dense)                (None, 32)                96        \n",
            "_________________________________________________________________\n",
            "dense_1 (Dense)              (None, 1)                 33        \n",
            "=================================================================\n",
            "Total params: 1,637\n",
            "Trainable params: 1,637\n",
            "Non-trainable params: 0\n",
            "_________________________________________________________________\n"
          ],
          "name": "stdout"
        }
      ]
    },
    {
      "cell_type": "code",
      "metadata": {
        "id": "DroHr7dH_BOL",
        "colab_type": "code",
        "colab": {
          "base_uri": "https://localhost:8080/",
          "height": 1000
        },
        "outputId": "f450c7b8-1067-4cb8-f572-45407f750647"
      },
      "source": [
        "model.compile(loss='mse',#loss used is mean squared error.\n",
        "              optimizer='adam',#Optimizer used is Adam,since it smooths the oscillation of gradient and can self-tune the learning rate\n",
        "              metrics=[\"mae\"])#metric is mean absolute error.\n",
        "model.fit(x_window_set,y_window_set, epochs=100,batch_size=32 )#the model is run on scaled training data\n",
        "#It is run for 100 epochs with batch size of 32 ."
      ],
      "execution_count": 14,
      "outputs": [
        {
          "output_type": "stream",
          "text": [
            "Epoch 1/100\n",
            "55/55 [==============================] - 0s 2ms/step - loss: 0.2960 - mae: 0.4497\n",
            "Epoch 2/100\n",
            "55/55 [==============================] - 0s 2ms/step - loss: 0.0452 - mae: 0.1642\n",
            "Epoch 3/100\n",
            "55/55 [==============================] - 0s 2ms/step - loss: 0.0185 - mae: 0.1149\n",
            "Epoch 4/100\n",
            "55/55 [==============================] - 0s 2ms/step - loss: 0.0094 - mae: 0.0786\n",
            "Epoch 5/100\n",
            "55/55 [==============================] - 0s 2ms/step - loss: 0.0037 - mae: 0.0465\n",
            "Epoch 6/100\n",
            "55/55 [==============================] - 0s 2ms/step - loss: 0.0018 - mae: 0.0310\n",
            "Epoch 7/100\n",
            "55/55 [==============================] - 0s 2ms/step - loss: 0.0014 - mae: 0.0271\n",
            "Epoch 8/100\n",
            "55/55 [==============================] - 0s 2ms/step - loss: 0.0013 - mae: 0.0257\n",
            "Epoch 9/100\n",
            "55/55 [==============================] - 0s 2ms/step - loss: 0.0012 - mae: 0.0243\n",
            "Epoch 10/100\n",
            "55/55 [==============================] - 0s 2ms/step - loss: 0.0014 - mae: 0.0266\n",
            "Epoch 11/100\n",
            "55/55 [==============================] - 0s 2ms/step - loss: 0.0011 - mae: 0.0239\n",
            "Epoch 12/100\n",
            "55/55 [==============================] - 0s 2ms/step - loss: 0.0011 - mae: 0.0242\n",
            "Epoch 13/100\n",
            "55/55 [==============================] - 0s 2ms/step - loss: 9.9519e-04 - mae: 0.0222\n",
            "Epoch 14/100\n",
            "55/55 [==============================] - 0s 2ms/step - loss: 0.0010 - mae: 0.0225\n",
            "Epoch 15/100\n",
            "55/55 [==============================] - 0s 2ms/step - loss: 9.8388e-04 - mae: 0.0222\n",
            "Epoch 16/100\n",
            "55/55 [==============================] - 0s 2ms/step - loss: 9.2630e-04 - mae: 0.0216\n",
            "Epoch 17/100\n",
            "55/55 [==============================] - 0s 2ms/step - loss: 9.7675e-04 - mae: 0.0223\n",
            "Epoch 18/100\n",
            "55/55 [==============================] - 0s 2ms/step - loss: 8.3791e-04 - mae: 0.0203\n",
            "Epoch 19/100\n",
            "55/55 [==============================] - 0s 2ms/step - loss: 8.3321e-04 - mae: 0.0203\n",
            "Epoch 20/100\n",
            "55/55 [==============================] - 0s 2ms/step - loss: 8.2629e-04 - mae: 0.0204\n",
            "Epoch 21/100\n",
            "55/55 [==============================] - 0s 2ms/step - loss: 7.9328e-04 - mae: 0.0199\n",
            "Epoch 22/100\n",
            "55/55 [==============================] - 0s 2ms/step - loss: 8.7824e-04 - mae: 0.0212\n",
            "Epoch 23/100\n",
            "55/55 [==============================] - 0s 2ms/step - loss: 7.5958e-04 - mae: 0.0191\n",
            "Epoch 24/100\n",
            "55/55 [==============================] - 0s 2ms/step - loss: 8.1502e-04 - mae: 0.0200\n",
            "Epoch 25/100\n",
            "55/55 [==============================] - 0s 2ms/step - loss: 8.0910e-04 - mae: 0.0202\n",
            "Epoch 26/100\n",
            "55/55 [==============================] - 0s 2ms/step - loss: 7.1100e-04 - mae: 0.0186\n",
            "Epoch 27/100\n",
            "55/55 [==============================] - 0s 2ms/step - loss: 7.6164e-04 - mae: 0.0191\n",
            "Epoch 28/100\n",
            "55/55 [==============================] - 0s 2ms/step - loss: 7.2878e-04 - mae: 0.0187\n",
            "Epoch 29/100\n",
            "55/55 [==============================] - 0s 2ms/step - loss: 7.8846e-04 - mae: 0.0199\n",
            "Epoch 30/100\n",
            "55/55 [==============================] - 0s 2ms/step - loss: 7.4884e-04 - mae: 0.0198\n",
            "Epoch 31/100\n",
            "55/55 [==============================] - 0s 2ms/step - loss: 7.2702e-04 - mae: 0.0187\n",
            "Epoch 32/100\n",
            "55/55 [==============================] - 0s 2ms/step - loss: 7.5023e-04 - mae: 0.0195\n",
            "Epoch 33/100\n",
            "55/55 [==============================] - 0s 2ms/step - loss: 7.7683e-04 - mae: 0.0196\n",
            "Epoch 34/100\n",
            "55/55 [==============================] - 0s 2ms/step - loss: 7.5098e-04 - mae: 0.0192\n",
            "Epoch 35/100\n",
            "55/55 [==============================] - 0s 2ms/step - loss: 6.6710e-04 - mae: 0.0178\n",
            "Epoch 36/100\n",
            "55/55 [==============================] - 0s 2ms/step - loss: 7.3136e-04 - mae: 0.0189\n",
            "Epoch 37/100\n",
            "55/55 [==============================] - 0s 2ms/step - loss: 8.0833e-04 - mae: 0.0200\n",
            "Epoch 38/100\n",
            "55/55 [==============================] - 0s 2ms/step - loss: 7.9966e-04 - mae: 0.0198\n",
            "Epoch 39/100\n",
            "55/55 [==============================] - 0s 2ms/step - loss: 6.7136e-04 - mae: 0.0179\n",
            "Epoch 40/100\n",
            "55/55 [==============================] - 0s 2ms/step - loss: 6.6786e-04 - mae: 0.0181\n",
            "Epoch 41/100\n",
            "55/55 [==============================] - 0s 2ms/step - loss: 7.1141e-04 - mae: 0.0185\n",
            "Epoch 42/100\n",
            "55/55 [==============================] - 0s 2ms/step - loss: 7.1004e-04 - mae: 0.0184\n",
            "Epoch 43/100\n",
            "55/55 [==============================] - 0s 2ms/step - loss: 6.2392e-04 - mae: 0.0173\n",
            "Epoch 44/100\n",
            "55/55 [==============================] - 0s 2ms/step - loss: 6.1795e-04 - mae: 0.0172\n",
            "Epoch 45/100\n",
            "55/55 [==============================] - 0s 2ms/step - loss: 6.3570e-04 - mae: 0.0174\n",
            "Epoch 46/100\n",
            "55/55 [==============================] - 0s 2ms/step - loss: 6.1918e-04 - mae: 0.0170\n",
            "Epoch 47/100\n",
            "55/55 [==============================] - 0s 2ms/step - loss: 6.1521e-04 - mae: 0.0171\n",
            "Epoch 48/100\n",
            "55/55 [==============================] - 0s 2ms/step - loss: 6.5498e-04 - mae: 0.0180\n",
            "Epoch 49/100\n",
            "55/55 [==============================] - 0s 2ms/step - loss: 7.1367e-04 - mae: 0.0186\n",
            "Epoch 50/100\n",
            "55/55 [==============================] - 0s 2ms/step - loss: 6.8860e-04 - mae: 0.0182\n",
            "Epoch 51/100\n",
            "55/55 [==============================] - 0s 2ms/step - loss: 5.9716e-04 - mae: 0.0168\n",
            "Epoch 52/100\n",
            "55/55 [==============================] - 0s 2ms/step - loss: 6.5007e-04 - mae: 0.0181\n",
            "Epoch 53/100\n",
            "55/55 [==============================] - 0s 2ms/step - loss: 6.4231e-04 - mae: 0.0177\n",
            "Epoch 54/100\n",
            "55/55 [==============================] - 0s 2ms/step - loss: 6.3258e-04 - mae: 0.0176\n",
            "Epoch 55/100\n",
            "55/55 [==============================] - 0s 2ms/step - loss: 6.6018e-04 - mae: 0.0180\n",
            "Epoch 56/100\n",
            "55/55 [==============================] - 0s 2ms/step - loss: 5.6975e-04 - mae: 0.0162\n",
            "Epoch 57/100\n",
            "55/55 [==============================] - 0s 2ms/step - loss: 6.1935e-04 - mae: 0.0174\n",
            "Epoch 58/100\n",
            "55/55 [==============================] - 0s 2ms/step - loss: 7.5046e-04 - mae: 0.0190\n",
            "Epoch 59/100\n",
            "55/55 [==============================] - 0s 2ms/step - loss: 9.3749e-04 - mae: 0.0218\n",
            "Epoch 60/100\n",
            "55/55 [==============================] - 0s 2ms/step - loss: 6.5100e-04 - mae: 0.0175\n",
            "Epoch 61/100\n",
            "55/55 [==============================] - 0s 2ms/step - loss: 5.7452e-04 - mae: 0.0162\n",
            "Epoch 62/100\n",
            "55/55 [==============================] - 0s 2ms/step - loss: 6.5771e-04 - mae: 0.0178\n",
            "Epoch 63/100\n",
            "55/55 [==============================] - 0s 2ms/step - loss: 6.1013e-04 - mae: 0.0170\n",
            "Epoch 64/100\n",
            "55/55 [==============================] - 0s 2ms/step - loss: 6.0401e-04 - mae: 0.0171\n",
            "Epoch 65/100\n",
            "55/55 [==============================] - 0s 2ms/step - loss: 5.3805e-04 - mae: 0.0155\n",
            "Epoch 66/100\n",
            "55/55 [==============================] - 0s 2ms/step - loss: 5.9227e-04 - mae: 0.0167\n",
            "Epoch 67/100\n",
            "55/55 [==============================] - 0s 2ms/step - loss: 5.8202e-04 - mae: 0.0164\n",
            "Epoch 68/100\n",
            "55/55 [==============================] - 0s 2ms/step - loss: 5.5062e-04 - mae: 0.0159\n",
            "Epoch 69/100\n",
            "55/55 [==============================] - 0s 2ms/step - loss: 7.2029e-04 - mae: 0.0188\n",
            "Epoch 70/100\n",
            "55/55 [==============================] - 0s 2ms/step - loss: 5.5552e-04 - mae: 0.0160\n",
            "Epoch 71/100\n",
            "55/55 [==============================] - 0s 2ms/step - loss: 5.2305e-04 - mae: 0.0155\n",
            "Epoch 72/100\n",
            "55/55 [==============================] - 0s 2ms/step - loss: 5.5173e-04 - mae: 0.0159\n",
            "Epoch 73/100\n",
            "55/55 [==============================] - 0s 2ms/step - loss: 5.6745e-04 - mae: 0.0163\n",
            "Epoch 74/100\n",
            "55/55 [==============================] - 0s 2ms/step - loss: 5.5122e-04 - mae: 0.0158\n",
            "Epoch 75/100\n",
            "55/55 [==============================] - 0s 2ms/step - loss: 6.0174e-04 - mae: 0.0171\n",
            "Epoch 76/100\n",
            "55/55 [==============================] - 0s 2ms/step - loss: 5.5810e-04 - mae: 0.0162\n",
            "Epoch 77/100\n",
            "55/55 [==============================] - 0s 2ms/step - loss: 5.6348e-04 - mae: 0.0162\n",
            "Epoch 78/100\n",
            "55/55 [==============================] - 0s 2ms/step - loss: 6.8028e-04 - mae: 0.0181\n",
            "Epoch 79/100\n",
            "55/55 [==============================] - 0s 2ms/step - loss: 5.9271e-04 - mae: 0.0168\n",
            "Epoch 80/100\n",
            "55/55 [==============================] - 0s 2ms/step - loss: 6.3299e-04 - mae: 0.0172\n",
            "Epoch 81/100\n",
            "55/55 [==============================] - 0s 2ms/step - loss: 5.5250e-04 - mae: 0.0159\n",
            "Epoch 82/100\n",
            "55/55 [==============================] - 0s 2ms/step - loss: 5.7092e-04 - mae: 0.0162\n",
            "Epoch 83/100\n",
            "55/55 [==============================] - 0s 2ms/step - loss: 6.6143e-04 - mae: 0.0181\n",
            "Epoch 84/100\n",
            "55/55 [==============================] - 0s 2ms/step - loss: 5.8418e-04 - mae: 0.0166\n",
            "Epoch 85/100\n",
            "55/55 [==============================] - 0s 2ms/step - loss: 4.9878e-04 - mae: 0.0151\n",
            "Epoch 86/100\n",
            "55/55 [==============================] - 0s 2ms/step - loss: 5.2018e-04 - mae: 0.0154\n",
            "Epoch 87/100\n",
            "55/55 [==============================] - 0s 2ms/step - loss: 5.6004e-04 - mae: 0.0161\n",
            "Epoch 88/100\n",
            "55/55 [==============================] - 0s 2ms/step - loss: 5.2837e-04 - mae: 0.0156\n",
            "Epoch 89/100\n",
            "55/55 [==============================] - 0s 2ms/step - loss: 5.4457e-04 - mae: 0.0160\n",
            "Epoch 90/100\n",
            "55/55 [==============================] - 0s 2ms/step - loss: 6.2658e-04 - mae: 0.0171\n",
            "Epoch 91/100\n",
            "55/55 [==============================] - 0s 2ms/step - loss: 5.9096e-04 - mae: 0.0167\n",
            "Epoch 92/100\n",
            "55/55 [==============================] - 0s 2ms/step - loss: 5.0403e-04 - mae: 0.0151\n",
            "Epoch 93/100\n",
            "55/55 [==============================] - 0s 2ms/step - loss: 6.4514e-04 - mae: 0.0172\n",
            "Epoch 94/100\n",
            "55/55 [==============================] - 0s 2ms/step - loss: 4.9858e-04 - mae: 0.0151\n",
            "Epoch 95/100\n",
            "55/55 [==============================] - 0s 2ms/step - loss: 5.3812e-04 - mae: 0.0158\n",
            "Epoch 96/100\n",
            "55/55 [==============================] - 0s 2ms/step - loss: 5.2495e-04 - mae: 0.0158\n",
            "Epoch 97/100\n",
            "55/55 [==============================] - 0s 2ms/step - loss: 4.9904e-04 - mae: 0.0153\n",
            "Epoch 98/100\n",
            "55/55 [==============================] - 0s 2ms/step - loss: 5.4263e-04 - mae: 0.0160\n",
            "Epoch 99/100\n",
            "55/55 [==============================] - 0s 2ms/step - loss: 6.1007e-04 - mae: 0.0171\n",
            "Epoch 100/100\n",
            "55/55 [==============================] - 0s 2ms/step - loss: 6.5432e-04 - mae: 0.0174\n"
          ],
          "name": "stdout"
        },
        {
          "output_type": "execute_result",
          "data": {
            "text/plain": [
              "<tensorflow.python.keras.callbacks.History at 0x7fb134a83fd0>"
            ]
          },
          "metadata": {
            "tags": []
          },
          "execution_count": 14
        }
      ]
    },
    {
      "cell_type": "markdown",
      "metadata": {
        "id": "GMp3k9RbwWWU",
        "colab_type": "text"
      },
      "source": [
        "#**Prediction on the test dataset**"
      ]
    },
    {
      "cell_type": "code",
      "metadata": {
        "id": "qm5C8-AQ_754",
        "colab_type": "code",
        "colab": {}
      },
      "source": [
        "x_real_test=data[train_time-7:]#create dataset\n",
        "x_a_real_test=np.array(x_real_test)#convert into numpy array"
      ],
      "execution_count": 15,
      "outputs": []
    },
    {
      "cell_type": "code",
      "metadata": {
        "id": "4m0vxPrJAWas",
        "colab_type": "code",
        "colab": {}
      },
      "source": [
        "x_t_scaled=scaler.transform(x_a_real_test)#scale the values using the Robust scaler parameters ."
      ],
      "execution_count": 16,
      "outputs": []
    },
    {
      "cell_type": "code",
      "metadata": {
        "id": "U1C0WYYqAYmI",
        "colab_type": "code",
        "colab": {}
      },
      "source": [
        "x_t=[]#empty list\n",
        "y_t=[]#empty list"
      ],
      "execution_count": 17,
      "outputs": []
    },
    {
      "cell_type": "code",
      "metadata": {
        "id": "CT8ItLgiAZxd",
        "colab_type": "code",
        "colab": {}
      },
      "source": [
        "#here the features are first 7 days and output to be predicted is 8th day\n",
        "for i in range(7,x_t_scaled.shape[0]):#looping on the dataset for 7 days\n",
        "  x_t.append(x_t_scaled[i-7:i])#appending first 7 days windowed list to x_t as features. \n",
        "  y_t.append(x_t_scaled[i,0])#appending only the opening price of first 7 days windowed list to y_t as target labels."
      ],
      "execution_count": 19,
      "outputs": []
    },
    {
      "cell_type": "code",
      "metadata": {
        "id": "CMDR4sPjAbVe",
        "colab_type": "code",
        "colab": {}
      },
      "source": [
        "x_test_window_set,y_test_window_set=np.array(x_t),np.array(y_t)#convert the list to numpy array"
      ],
      "execution_count": 20,
      "outputs": []
    },
    {
      "cell_type": "code",
      "metadata": {
        "id": "yVx1XsQSAcer",
        "colab_type": "code",
        "colab": {}
      },
      "source": [
        "predicted_value=model.predict(x_test_window_set)#Predict the value of test dataset features"
      ],
      "execution_count": 21,
      "outputs": []
    },
    {
      "cell_type": "markdown",
      "metadata": {
        "id": "R0ViG0jeEbak",
        "colab_type": "text"
      },
      "source": [
        "**Mean Absolute percentage error**\n",
        "* $MAPE=\\sum_\\frac{Actual-Forecast}{Forecast}$"
      ]
    },
    {
      "cell_type": "code",
      "metadata": {
        "id": "9vNWnd_FAegQ",
        "colab_type": "code",
        "colab": {
          "base_uri": "https://localhost:8080/",
          "height": 34
        },
        "outputId": "c8b60cc1-601b-40c2-a2ae-335b5aa408b1"
      },
      "source": [
        "#calculating Mean Absolute Percentage error (MAPE)\n",
        "m = tf.keras.metrics.MeanAbsolutePercentageError()#initialize the MAPE class.\n",
        "m.update_state(y_test_window_set,predicted_value)#calculate MAPE on Actual testing values and forecasted values\n",
        "m.result().numpy()#print the result"
      ],
      "execution_count": 22,
      "outputs": [
        {
          "output_type": "execute_result",
          "data": {
            "text/plain": [
              "1.8217003"
            ]
          },
          "metadata": {
            "tags": []
          },
          "execution_count": 22
        }
      ]
    },
    {
      "cell_type": "code",
      "metadata": {
        "id": "ZJlch9eQTcxp",
        "colab_type": "code",
        "colab": {}
      },
      "source": [
        "time=np.arange(1,2518)#create a range of numbers from 1 to 2518 "
      ],
      "execution_count": 23,
      "outputs": []
    },
    {
      "cell_type": "code",
      "metadata": {
        "id": "_qSRY8wWAuTa",
        "colab_type": "code",
        "colab": {
          "base_uri": "https://localhost:8080/",
          "height": 388
        },
        "outputId": "b105b848-f1be-4907-b676-9b200a1d286f"
      },
      "source": [
        "#visualizing the results\n",
        "plt.figure(figsize=(10,6))#Set the figure size\n",
        "plt.plot(time[1761:],y_test_window_set,color='blue',label=\"true values\")#Plot the true testing value in blue\n",
        "plt.plot(time[1761:],predicted_value,color='red',label='predicted value')#Plot the predicted value in red\n",
        "plt.xlabel('Time in Days')#set label of x as Time\n",
        "plt.ylabel('Stock Price')#set label of y as Value\n",
        "plt.legend()#show the labels\n",
        "plt.show()#show the plot"
      ],
      "execution_count": 25,
      "outputs": [
        {
          "output_type": "display_data",
          "data": {
            "image/png": "[encoded data removed]",
            "text/plain": [
              "<Figure size 720x432 with 1 Axes>"
            ]
          },
          "metadata": {
            "tags": [],
            "needs_background": "light"
          }
        }
      ]
    },
    {
      "cell_type": "markdown",
      "metadata": {
        "id": "YDTtGwxSOnDx",
        "colab_type": "text"
      },
      "source": [
        "* **x-axis** contains time in days.\n",
        "* **y-axis** contains stock price\n",
        "* The **Blue** and **Red** line almost overlaps each other .\n",
        "* From, the visualization we can see that our model has performed well since it has captured almost all the data ."
      ]
    },
    {
      "cell_type": "markdown",
      "metadata": {
        "id": "dFXYs-H3v9uj",
        "colab_type": "text"
      },
      "source": [
        "#**Prediction on Out of Samples dataset[Different stock market]**"
      ]
    },
    {
      "cell_type": "markdown",
      "metadata": {
        "id": "cVZmQG-YGUag",
        "colab_type": "text"
      },
      "source": [
        "* The **Microsoft** stocks are found in **NASDAQ** stockmarket, thus **NASDAQ** stock market would have correlations with the **Microsoft**.\n",
        "* Hence we are testing our model on **NYSE** stock market,since  **NYSE** stock markets vary from **NASDAQ**.\n"
      ]
    },
    {
      "cell_type": "markdown",
      "metadata": {
        "id": "6bNoG6LsHKOC",
        "colab_type": "text"
      },
      "source": [
        "#**Prediction on NYSE Dataset**"
      ]
    },
    {
      "cell_type": "code",
      "metadata": {
        "id": "-qa9AHtml8-b",
        "colab_type": "code",
        "colab": {}
      },
      "source": [
        "#import NYSE dataset from csv file\n",
        "data1=pd.read_csv('nyse.csv',index_col='Date',parse_dates=['Date'])"
      ],
      "execution_count": 26,
      "outputs": []
    },
    {
      "cell_type": "code",
      "metadata": {
        "id": "Vn7WXv9nmDmf",
        "colab_type": "code",
        "colab": {}
      },
      "source": [
        "x_t_scaled1=scaler.transform(data1)#scale the values by Robust Scaler"
      ],
      "execution_count": 27,
      "outputs": []
    },
    {
      "cell_type": "code",
      "metadata": {
        "id": "0uycnQwymLmi",
        "colab_type": "code",
        "colab": {}
      },
      "source": [
        "x_t1=[]#empty list\n",
        "y_t1=[]#empty list"
      ],
      "execution_count": 28,
      "outputs": []
    },
    {
      "cell_type": "code",
      "metadata": {
        "id": "8uXqC5QZmNSw",
        "colab_type": "code",
        "colab": {}
      },
      "source": [
        "#here the features are first 7 days and output to be predicted is 8th day\n",
        "for i in range(7,x_t_scaled1.shape[0]):#looping on the dataset for 7 days\n",
        "  x_t1.append(x_t_scaled1[i-7:i])#appending first 7 days windowed list to x_t1 as features.\n",
        "  y_t1.append(x_t_scaled1[i,0])#appending only the opening price of first 7 days windowed list to y_t1 as target labels."
      ],
      "execution_count": 29,
      "outputs": []
    },
    {
      "cell_type": "code",
      "metadata": {
        "id": "KJFMmd9-mSA_",
        "colab_type": "code",
        "colab": {}
      },
      "source": [
        "x_test_window_set1,y_test_window_set1=np.array(x_t1),np.array(y_t1)#convert the list to numpy array"
      ],
      "execution_count": 30,
      "outputs": []
    },
    {
      "cell_type": "code",
      "metadata": {
        "id": "tphLrFPfmzNp",
        "colab_type": "code",
        "colab": {}
      },
      "source": [
        "#predicted value\n",
        "predicted_value1=model.predict(x_test_window_set1)#Predict the value of  dataset features"
      ],
      "execution_count": 31,
      "outputs": []
    },
    {
      "cell_type": "code",
      "metadata": {
        "id": "v9pqQ8bAm38x",
        "colab_type": "code",
        "colab": {
          "base_uri": "https://localhost:8080/",
          "height": 34
        },
        "outputId": "4172ea36-2a9e-4f56-9c1a-3b82faa2746c"
      },
      "source": [
        "#calculating MAPE\n",
        "m = tf.keras.metrics.MeanAbsolutePercentageError()#initialize the MAPE class.\n",
        "m.update_state(y_test_window_set1,predicted_value1)#calculate MAPE on Actual testing values and forecasted values\n",
        "m.result().numpy()#print the result\n",
        "\n"
      ],
      "execution_count": 32,
      "outputs": [
        {
          "output_type": "execute_result",
          "data": {
            "text/plain": [
              "0.6825708"
            ]
          },
          "metadata": {
            "tags": []
          },
          "execution_count": 32
        }
      ]
    },
    {
      "cell_type": "code",
      "metadata": {
        "id": "jfxYYfAqnNvu",
        "colab_type": "code",
        "colab": {}
      },
      "source": [
        "time1=np.arange(1,data1.shape[0]+1)#create a range of numbers from 1 to total row count in the dataset"
      ],
      "execution_count": 33,
      "outputs": []
    },
    {
      "cell_type": "code",
      "metadata": {
        "id": "KOeaefQ4m_WP",
        "colab_type": "code",
        "colab": {
          "base_uri": "https://localhost:8080/",
          "height": 388
        },
        "outputId": "f9ec81e6-5aab-4833-9c5b-5bd0eec5b9f4"
      },
      "source": [
        "#visualizing the results\n",
        "plt.figure(figsize=(10,6))#Set the figure size\n",
        "plt.plot(time1[7:],y_test_window_set1,color='blue',label=\"true values\")#Plot the true testing value in blue\n",
        "plt.plot(time1[7:],predicted_value1,color='red',label='predicted value')#Plot the predicted value in red\n",
        "plt.xlabel('Time in days')#set label of x as Time\n",
        "plt.ylabel('Stock Price')#set label of y as Value\n",
        "plt.legend()#show the labels\n",
        "plt.show()#show the plot"
      ],
      "execution_count": 34,
      "outputs": [
        {
          "output_type": "display_data",
          "data": {
            "image/png": "[encoded data removed]",
            "text/plain": [
              "<Figure size 720x432 with 1 Axes>"
            ]
          },
          "metadata": {
            "tags": [],
            "needs_background": "light"
          }
        }
      ]
    },
    {
      "cell_type": "markdown",
      "metadata": {
        "id": "H19AaXAsOkV2",
        "colab_type": "text"
      },
      "source": [
        "* **x-axis** contains time in days.\n",
        "* **y-axis** contains stock price\n",
        "* From the visualization we can see that ,our model performed pretty well on the out of sample **NYSE** dataset .\n",
        "* The **Blue** and **Red** line almost overlaps each other.\n",
        "*It lags only in some extreme points which may be treated as outliers."
      ]
    },
    {
      "cell_type": "markdown",
      "metadata": {
        "id": "oHNIT3EfPXY7",
        "colab_type": "text"
      },
      "source": [
        "#**Prediction on Out of Samples dataset[Different Company]**"
      ]
    },
    {
      "cell_type": "markdown",
      "metadata": {
        "id": "N9sL3Ql_P2c6",
        "colab_type": "text"
      },
      "source": [
        "* So far,we have seen that our model has performed well on **different** stock market.\n",
        "* Let us now see whether our model on different company having market cap **higher** than the microsoft\n",
        "* **Apple** has market cap over 1.95 trillion. "
      ]
    },
    {
      "cell_type": "markdown",
      "metadata": {
        "id": "F8rxkTt3wDal",
        "colab_type": "text"
      },
      "source": [
        "#**Prediction on Apple**"
      ]
    },
    {
      "cell_type": "code",
      "metadata": {
        "id": "bfLbnkyssmMP",
        "colab_type": "code",
        "colab": {}
      },
      "source": [
        "#Import the dataset from csv file.\n",
        "data2=pd.read_csv('apple.csv',index_col='Date',parse_dates=['Date'])"
      ],
      "execution_count": 43,
      "outputs": []
    },
    {
      "cell_type": "code",
      "metadata": {
        "id": "Am1NPRU9tX6m",
        "colab_type": "code",
        "colab": {}
      },
      "source": [
        "x_t_scaled2=scaler.transform(data2)#scale the values using Robust Scaler"
      ],
      "execution_count": 44,
      "outputs": []
    },
    {
      "cell_type": "code",
      "metadata": {
        "id": "g5V1r-WetyLi",
        "colab_type": "code",
        "colab": {}
      },
      "source": [
        "x_t2=[]#empty list\n",
        "y_t2=[]#empty list"
      ],
      "execution_count": 45,
      "outputs": []
    },
    {
      "cell_type": "code",
      "metadata": {
        "id": "D7_CigArt1Ch",
        "colab_type": "code",
        "colab": {}
      },
      "source": [
        "#here the features are first 7 days and output to be predicted is 8th day\n",
        "for i in range(7,x_t_scaled2.shape[0]):#looping on the dataset for 7 days\n",
        "  x_t2.append(x_t_scaled2[i-7:i])#appending first 7 days windowed list to x_t2 as features.\n",
        "  y_t2.append(x_t_scaled2[i,0])#appending only the opening price of first 7 days windowed list to y_t1 as target labels."
      ],
      "execution_count": 46,
      "outputs": []
    },
    {
      "cell_type": "code",
      "metadata": {
        "id": "Zokr8-qBt4sv",
        "colab_type": "code",
        "colab": {}
      },
      "source": [
        "#convert list into numpy array\n",
        "x_test_window_set2,y_test_window_set2=np.array(x_t2),np.array(y_t2)"
      ],
      "execution_count": 47,
      "outputs": []
    },
    {
      "cell_type": "code",
      "metadata": {
        "id": "DNuRhmtGuBD5",
        "colab_type": "code",
        "colab": {}
      },
      "source": [
        "#predicted value on  dataset features\n",
        "predicted_value2=model.predict(x_test_window_set2)"
      ],
      "execution_count": 48,
      "outputs": []
    },
    {
      "cell_type": "code",
      "metadata": {
        "id": "HhbcE9q5ucsS",
        "colab_type": "code",
        "colab": {
          "base_uri": "https://localhost:8080/",
          "height": 34
        },
        "outputId": "e7aab604-d1f4-483e-e118-794ab0f96b72"
      },
      "source": [
        "#calculating MAPE\n",
        "m = tf.keras.metrics.MeanAbsolutePercentageError()#initialize the MAPE class.\n",
        "m.update_state(y_test_window_set2,predicted_value2)#calculate MAPE on Actual testing values and forecasted values\n",
        "m.result().numpy()#print the result.\n",
        "\n"
      ],
      "execution_count": 49,
      "outputs": [
        {
          "output_type": "execute_result",
          "data": {
            "text/plain": [
              "6.9230475"
            ]
          },
          "metadata": {
            "tags": []
          },
          "execution_count": 49
        }
      ]
    },
    {
      "cell_type": "code",
      "metadata": {
        "id": "8xKJl8yKRe7s",
        "colab_type": "code",
        "colab": {}
      },
      "source": [
        "time2=np.arange(1,data2.shape[0]+1)#create a range of numbers from 1 to total row count in the dataset"
      ],
      "execution_count": 50,
      "outputs": []
    },
    {
      "cell_type": "code",
      "metadata": {
        "id": "HjrKNimTvz-b",
        "colab_type": "code",
        "colab": {
          "base_uri": "https://localhost:8080/",
          "height": 388
        },
        "outputId": "4efd17bc-65e4-44e1-b3b2-bf08c721ccfb"
      },
      "source": [
        "#visualizing the results\n",
        "plt.figure(figsize=(10,6))#Set the figure size\n",
        "plt.plot(time2[7:],y_test_window_set2,color='blue',label=\"true values\")#Plot the true testing value in blue\n",
        "plt.plot(time2[7:],predicted_value2,color='red',label='predicted value')#Plot the predicted value in red\n",
        "plt.xlabel('Time in days')#set label of x as Time\n",
        "plt.ylabel('Stock Price')#set label of y as Value\n",
        "plt.legend()#show the labels\n",
        "plt.show()#show the plot"
      ],
      "execution_count": 52,
      "outputs": [
        {
          "output_type": "display_data",
          "data": {
            "image/png": "[encoded data removed]",
            "text/plain": [
              "<Figure size 720x432 with 1 Axes>"
            ]
          },
          "metadata": {
            "tags": [],
            "needs_background": "light"
          }
        }
      ]
    },
    {
      "cell_type": "markdown",
      "metadata": {
        "id": "ar1MJejJR_EY",
        "colab_type": "text"
      },
      "source": [
        "* **x-axis** contains time in days.\n",
        "* **y-axis** contains stock price\n",
        "* The **Blue** and **Red** line almost overlaps each other.\n",
        "* Hence ,from the visualization ,It is seen that our model trained on **Microsoft** stocks predict good even on **Apple** stocks."
      ]
    },
    {
      "cell_type": "markdown",
      "metadata": {
        "id": "g0yp3o8DSJ9I",
        "colab_type": "text"
      },
      "source": [
        "#**Conclusion**"
      ]
    },
    {
      "cell_type": "markdown",
      "metadata": {
        "id": "73jz5DLWSNjN",
        "colab_type": "text"
      },
      "source": [
        "* Here we have trained CNN on  stock prices of one company[**Microsoft**] and predicted the prices of stock on different market **NYSE** and different company **Apple**.\n",
        "* The lower **MAPE** and great **Visualization** plots prove that **CNN** models are good in predicting Stock market prices."
      ]
    }
  ]
}